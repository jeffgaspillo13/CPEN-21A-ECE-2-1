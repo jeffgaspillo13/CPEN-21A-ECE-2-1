{
  "nbformat": 4,
  "nbformat_minor": 0,
  "metadata": {
    "colab": {
      "name": "Midterm Exam.ipynb",
      "provenance": [],
      "authorship_tag": "ABX9TyMeGUH8JADY0ChjCVJzkJMa",
      "include_colab_link": true
    },
    "kernelspec": {
      "name": "python3",
      "display_name": "Python 3"
    },
    "language_info": {
      "name": "python"
    }
  },
  "cells": [
    {
      "cell_type": "markdown",
      "metadata": {
        "id": "view-in-github",
        "colab_type": "text"
      },
      "source": [
        "<a href=\"https://colab.research.google.com/github/jeffgaspillo13/CPEN-21A-ECE-2-1/blob/main/Midterm_Exam.ipynb\" target=\"_parent\"><img src=\"https://colab.research.google.com/assets/colab-badge.svg\" alt=\"Open In Colab\"/></a>"
      ]
    },
    {
      "cell_type": "markdown",
      "metadata": {
        "id": "Joay1-Sj2B3C"
      },
      "source": [
        "###Problem Statement 1\n"
      ]
    },
    {
      "cell_type": "code",
      "metadata": {
        "colab": {
          "base_uri": "https://localhost:8080/"
        },
        "id": "AJDpZOGe2nYu",
        "outputId": "1e147ec3-294b-48ff-a7b8-a8eead74a44c"
      },
      "source": [
        "a=(\"Full name:Jeff Sales Gaspillo\")\n",
        "b=(\"Student number:202013214\")\n",
        "c=(\"Age:19 years old\")\n",
        "d=(\"Birthday:January 13,2002\")\n",
        "e=(\"Address:Block 16 Lot 45, Phase 1, South Square Village, Pasong Kawayan 2, General Trias, Cavite\")\n",
        "f=(\"Course:Programming Logic and Design\")\n",
        "g=(\"Last Sem GWA:1.17\")\n",
        "print(a)\n",
        "print(b)\n",
        "print(c)\n",
        "print(d)\n",
        "print(e)\n",
        "print(f)\n",
        "print(g)"
      ],
      "execution_count": 1,
      "outputs": [
        {
          "output_type": "stream",
          "name": "stdout",
          "text": [
            "Full name:Jeff Sales Gaspillo\n",
            "Student number:202013214\n",
            "Age:19 years old\n",
            "Birthday:January 13,2002\n",
            "Address:Block 16 Lot 45, Phase 1, South Square Village, Pasong Kawayan 2, General Trias, Cavite\n",
            "Course: Programming Logic and Design\n",
            "Last Sem GWA:1.17\n"
          ]
        }
      ]
    },
    {
      "cell_type": "markdown",
      "metadata": {
        "id": "XSCxSAZs5Bmu"
      },
      "source": [
        "###Problem Statement 2"
      ]
    },
    {
      "cell_type": "code",
      "metadata": {
        "colab": {
          "base_uri": "https://localhost:8080/"
        },
        "id": "s7YpQdfo5MJ9",
        "outputId": "88528646-24c7-46e0-9cb4-4c796a670eff"
      },
      "source": [
        "#Suppose Suppose the numeric variable n has value 4 and the string variable answ has value “Y”. Determine whether each of the following conditions is true or false.\n",
        "n=4\n",
        "answ=\"Y\"\n",
        "print(bool(2<n)and(n<6)) #a\n",
        "print(bool(2<n)or(n==6)) #b\n",
        "print(bool(not(2<n)or(n==6)))#c\n",
        "print(bool(not(n<6))) #d\n",
        "print(bool(answ==\"Y\")or(answ==\"y\")) #e\n",
        "print(bool(answ==\"Y\")and(answ==\"y\")) #f\n",
        "print(bool(not(answ==\"y\"))) #g\n",
        "print(bool((2<n)and(n==5+1))or(answ==\"No\")) #h\n",
        "print(bool((n==2)and(n==7))or(answ==\"Y\")) #i\n",
        "print(bool(n==2)and((n==7)or(answ==\"Y\"))) #j\n",
        "\n",
        "\n",
        "\n",
        "\n",
        "\n",
        "\n",
        "\n"
      ],
      "execution_count": 9,
      "outputs": [
        {
          "output_type": "stream",
          "name": "stdout",
          "text": [
            "True\n",
            "True\n",
            "False\n",
            "False\n",
            "True\n",
            "False\n",
            "True\n",
            "False\n",
            "True\n",
            "False\n"
          ]
        }
      ]
    },
    {
      "cell_type": "markdown",
      "metadata": {
        "id": "27WR87N0AAQt"
      },
      "source": [
        "###Statement Problem 3\n"
      ]
    },
    {
      "cell_type": "code",
      "metadata": {
        "colab": {
          "base_uri": "https://localhost:8080/"
        },
        "id": "cHaqpz4eADcN",
        "outputId": "c95fb062-9ad6-4373-8838-5bab8209b03a"
      },
      "source": [
        "x=2\n",
        "y=-3\n",
        "w=7\n",
        "z=-10\n",
        "print(x/y)\n",
        "print(w/y/x)\n",
        "print(z/y%x)\n",
        "print(x%-y*w)\n",
        "print(x%y)\n",
        "print(z%w-y/x*5+5)\n",
        "print(9-x%(2+y))\n",
        "print(z//w)\n",
        "print((2+y)**2)\n",
        "w/x*2\n"
      ],
      "execution_count": 6,
      "outputs": [
        {
          "output_type": "stream",
          "name": "stdout",
          "text": [
            "-0.6666666666666666\n",
            "-1.1666666666666667\n",
            "1.3333333333333335\n",
            "14\n",
            "-1\n",
            "16.5\n",
            "9\n",
            "-2\n",
            "1\n"
          ]
        },
        {
          "output_type": "execute_result",
          "data": {
            "text/plain": [
              "7.0"
            ]
          },
          "metadata": {},
          "execution_count": 6
        }
      ]
    }
  ]
}