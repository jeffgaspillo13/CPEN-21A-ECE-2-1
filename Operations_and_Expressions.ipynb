{
  "nbformat": 4,
  "nbformat_minor": 0,
  "metadata": {
    "colab": {
      "name": "Operations and Expressions.ipynb",
      "provenance": [],
      "authorship_tag": "ABX9TyON7wSciWT2/w/6hVocjM6e",
      "include_colab_link": true
    },
    "kernelspec": {
      "name": "python3",
      "display_name": "Python 3"
    },
    "language_info": {
      "name": "python"
    }
  },
  "cells": [
    {
      "cell_type": "markdown",
      "metadata": {
        "id": "view-in-github",
        "colab_type": "text"
      },
      "source": [
        "<a href=\"https://colab.research.google.com/github/jeffgaspillo13/CPEN-21A-ECE-2-1/blob/main/Operations_and_Expressions.ipynb\" target=\"_parent\"><img src=\"https://colab.research.google.com/assets/colab-badge.svg\" alt=\"Open In Colab\"/></a>"
      ]
    },
    {
      "cell_type": "markdown",
      "metadata": {
        "id": "6vBh3NVR3q32"
      },
      "source": [
        "##Boolean Operator"
      ]
    },
    {
      "cell_type": "code",
      "metadata": {
        "colab": {
          "base_uri": "https://localhost:8080/"
        },
        "id": "Jn1rT6xU3wuT",
        "outputId": "0dca521a-03e8-4dce-ad09-8730f0943b63"
      },
      "source": [
        "x=1\n",
        "y=2\n",
        "print(x>y)\n",
        "print(10>11)\n",
        "print(10==10)\n",
        "print(10!=11)"
      ],
      "execution_count": 80,
      "outputs": [
        {
          "output_type": "stream",
          "name": "stdout",
          "text": [
            "False\n",
            "False\n",
            "True\n",
            "True\n"
          ]
        }
      ]
    },
    {
      "cell_type": "code",
      "metadata": {
        "colab": {
          "base_uri": "https://localhost:8080/"
        },
        "id": "3OgTzxgF4tiF",
        "outputId": "642ccb40-274d-46e8-cc6e-041b998d03e3"
      },
      "source": [
        "#using bool() functions\n",
        "print(bool(\"Hello\"))\n",
        "print(bool(15))\n",
        "print(bool(1))\n",
        "print(bool(True))\n",
        "print(bool(False))\n",
        "print(bool(None))\n",
        "print(bool(0))\n",
        "print(bool([]))"
      ],
      "execution_count": 82,
      "outputs": [
        {
          "output_type": "stream",
          "name": "stdout",
          "text": [
            "True\n",
            "True\n",
            "True\n",
            "True\n",
            "False\n",
            "False\n",
            "False\n",
            "False\n"
          ]
        }
      ]
    },
    {
      "cell_type": "markdown",
      "metadata": {
        "id": "n5n-F8xI5T7L"
      },
      "source": [
        "##Functions can return Boolean \n"
      ]
    },
    {
      "cell_type": "code",
      "metadata": {
        "colab": {
          "base_uri": "https://localhost:8080/"
        },
        "id": "M6H9lIh_5dvC",
        "outputId": "81a905f4-4e5e-4576-f860-8eb4d849d6b6"
      },
      "source": [
        "def myFunction():return False\n",
        "print(myFunction())"
      ],
      "execution_count": 11,
      "outputs": [
        {
          "output_type": "stream",
          "name": "stdout",
          "text": [
            "True\n"
          ]
        }
      ]
    },
    {
      "cell_type": "code",
      "metadata": {
        "colab": {
          "base_uri": "https://localhost:8080/"
        },
        "id": "8GY81Zsx5v6b",
        "outputId": "cf38a7cd-fb3e-4db2-8690-b49e83759bb8"
      },
      "source": [
        "def yourFunction():return False\n",
        "if yourFunction():\n",
        "  print(\"Yes!\")\n",
        "else:\n",
        "    print(\"No\") "
      ],
      "execution_count": 16,
      "outputs": [
        {
          "output_type": "stream",
          "name": "stdout",
          "text": [
            "No\n"
          ]
        }
      ]
    },
    {
      "cell_type": "markdown",
      "metadata": {
        "id": "F2fXqTRq6TQT"
      },
      "source": [
        "###You Try!"
      ]
    },
    {
      "cell_type": "code",
      "metadata": {
        "colab": {
          "base_uri": "https://localhost:8080/"
        },
        "id": "B6vlrYNc6V-0",
        "outputId": "4d176f27-a947-4d3d-abd3-ad7fb89286d5"
      },
      "source": [
        "print(10>9)\n",
        "a=6\n",
        "b=7\n",
        "print(a==b)\n",
        "print(a!=a)\n",
        "\n"
      ],
      "execution_count": 19,
      "outputs": [
        {
          "output_type": "stream",
          "name": "stdout",
          "text": [
            "True\n",
            "False\n",
            "False\n"
          ]
        }
      ]
    },
    {
      "cell_type": "markdown",
      "metadata": {
        "id": "EMlOtbMD8Vbu"
      },
      "source": [
        "##Arithmetic Operators"
      ]
    },
    {
      "cell_type": "code",
      "metadata": {
        "colab": {
          "base_uri": "https://localhost:8080/"
        },
        "id": "6XOn-vlb8Y5s",
        "outputId": "b6c7c431-890b-40c8-bf2e-bd84f29ab0a1"
      },
      "source": [
        "print(10+5)\n",
        "print(10-5)\n",
        "print(10*5)\n",
        "print(10/5)\n",
        "print(10%5)#modulo division, remainder\n",
        "print(10//5)#floor division\n",
        "print(10//3)#floor division\n",
        "print(10%3)#3x3=9+1"
      ],
      "execution_count": 25,
      "outputs": [
        {
          "output_type": "stream",
          "name": "stdout",
          "text": [
            "15\n",
            "5\n",
            "50\n",
            "2.0\n",
            "0\n",
            "2\n",
            "3\n",
            "1\n"
          ]
        }
      ]
    },
    {
      "cell_type": "markdown",
      "metadata": {
        "id": "Os0uFGIQ9eQT"
      },
      "source": [
        "##Bitwise Operators"
      ]
    },
    {
      "cell_type": "code",
      "metadata": {
        "colab": {
          "base_uri": "https://localhost:8080/"
        },
        "id": "spaFT-lJ9gtb",
        "outputId": "413a61c3-2d0c-499f-db23-8603559aff3a"
      },
      "source": [
        "a=60 #0011 1100\n",
        "b=13 #0000 1101\n",
        "print(a&b)\n",
        "print(a|b)\n",
        "print(a^b)\n",
        "print(~a)\n",
        "print(a<<1) # 0111 1100\n",
        "print(a<<2) # 1111 0000\n",
        "print(b>>1) # 1 0000 0110\n",
        "print(b>>2) # 0000 0011     carry flag bit=01"
      ],
      "execution_count": 78,
      "outputs": [
        {
          "output_type": "stream",
          "name": "stdout",
          "text": [
            "12\n",
            "61\n",
            "49\n",
            "-61\n",
            "120\n",
            "240\n",
            "6\n",
            "3\n"
          ]
        }
      ]
    },
    {
      "cell_type": "markdown",
      "metadata": {
        "id": "WCFiUFswBzF6"
      },
      "source": [
        "##Python Assignment Operators"
      ]
    },
    {
      "cell_type": "code",
      "metadata": {
        "colab": {
          "base_uri": "https://localhost:8080/"
        },
        "id": "SI1F0SomFsTi",
        "outputId": "ebce4657-b534-471a-a6ac-2cd9ae4e6ea4"
      },
      "source": [
        "a+=3 #Same As a=a+3\n",
        "     #Same As a=60+3, a=63\n",
        "print(a)"
      ],
      "execution_count": 79,
      "outputs": [
        {
          "output_type": "stream",
          "name": "stdout",
          "text": [
            "63\n"
          ]
        }
      ]
    },
    {
      "cell_type": "markdown",
      "metadata": {
        "id": "-XxhKy6uCfEq"
      },
      "source": [
        "##Logical Operators"
      ]
    },
    {
      "cell_type": "code",
      "metadata": {
        "colab": {
          "base_uri": "https://localhost:8080/"
        },
        "id": "zugW1Wz8CiVE",
        "outputId": "2fd59f20-7805-48f7-fa05-04aff9f5c53b"
      },
      "source": [
        "#and logical operator\n",
        "a=True\n",
        "b=False\n",
        "print(a and b)\n",
        "print(not(a and b))\n",
        "print(a or b)\n",
        "print(not(a or b))"
      ],
      "execution_count": 45,
      "outputs": [
        {
          "output_type": "stream",
          "name": "stdout",
          "text": [
            "False\n",
            "True\n",
            "True\n",
            "False\n"
          ]
        }
      ]
    },
    {
      "cell_type": "code",
      "metadata": {
        "colab": {
          "base_uri": "https://localhost:8080/"
        },
        "id": "qupL0-s6DLiM",
        "outputId": "2250273e-81bf-48a5-e17d-24dd9d3a2a27"
      },
      "source": [
        "print(a is b)\n",
        "print(a is not b)\n",
        "\n"
      ],
      "execution_count": 47,
      "outputs": [
        {
          "output_type": "stream",
          "name": "stdout",
          "text": [
            "False\n",
            "True\n"
          ]
        }
      ]
    }
  ]
}