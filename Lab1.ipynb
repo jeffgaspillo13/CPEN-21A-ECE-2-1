{
  "nbformat": 4,
  "nbformat_minor": 0,
  "metadata": {
    "colab": {
      "name": "Lab1.ipynb",
      "provenance": [],
      "authorship_tag": "ABX9TyNNHPVP2LpooLrnZEB3lU+L",
      "include_colab_link": true
    },
    "kernelspec": {
      "name": "python3",
      "display_name": "Python 3"
    },
    "language_info": {
      "name": "python"
    }
  },
  "cells": [
    {
      "cell_type": "markdown",
      "metadata": {
        "id": "view-in-github",
        "colab_type": "text"
      },
      "source": [
        "<a href=\"https://colab.research.google.com/github/jeffgaspillo13/CPEN-21A-ECE-2-1/blob/main/Lab1.ipynb\" target=\"_parent\"><img src=\"https://colab.research.google.com/assets/colab-badge.svg\" alt=\"Open In Colab\"/></a>"
      ]
    },
    {
      "cell_type": "markdown",
      "metadata": {
        "id": "41Vr4cTwsa7U"
      },
      "source": [
        "##Laboratory 1\n"
      ]
    },
    {
      "cell_type": "code",
      "metadata": {
        "colab": {
          "base_uri": "https://localhost:8080/"
        },
        "id": "1DjOQkjxqVoL",
        "outputId": "450e94f8-2122-4d32-8b3e-5e6ae60a8775"
      },
      "source": [
        "c=(\"Welcome to Python Programming\")\n",
        "b=(\"Name: Jeff Sales Gaspillo\")\n",
        "h=(\"Address: Block 16 Lot 45, Phase 1, South Square Village, Pasong Kawayan 2, General Trias, Cavite\")\n",
        "p=(\"Age: 19 years old\")\n",
        "print(c)\n",
        "print(b)\n",
        "print(h)\n",
        "print(p)"
      ],
      "execution_count": 10,
      "outputs": [
        {
          "output_type": "stream",
          "name": "stdout",
          "text": [
            "Welcome to Python Programming\n",
            "Name: Jeff Sales Gaspillo\n",
            "Address: Block 16 Lot 45, Phase 1, South Square Village, Pasong Kawayan 2, General Trias, Cavite\n",
            "Age: 19 years old\n"
          ]
        }
      ]
    }
  ]
}