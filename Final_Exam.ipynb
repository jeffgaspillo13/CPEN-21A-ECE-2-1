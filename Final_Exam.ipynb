{
  "nbformat": 4,
  "nbformat_minor": 0,
  "metadata": {
    "colab": {
      "name": "Final Exam.ipynb",
      "provenance": [],
      "collapsed_sections": [],
      "authorship_tag": "ABX9TyPWSCLq1R0Y0+CrpREHQNz+",
      "include_colab_link": true
    },
    "kernelspec": {
      "name": "python3",
      "display_name": "Python 3"
    },
    "language_info": {
      "name": "python"
    }
  },
  "cells": [
    {
      "cell_type": "markdown",
      "metadata": {
        "id": "view-in-github",
        "colab_type": "text"
      },
      "source": [
        "<a href=\"https://colab.research.google.com/github/jeffgaspillo13/CPEN-21A-ECE-2-1/blob/main/Final_Exam.ipynb\" target=\"_parent\"><img src=\"https://colab.research.google.com/assets/colab-badge.svg\" alt=\"Open In Colab\"/></a>"
      ]
    },
    {
      "cell_type": "markdown",
      "source": [
        "#Final Exam"
      ],
      "metadata": {
        "id": "A3AWwGZQGR8O"
      }
    },
    {
      "cell_type": "markdown",
      "source": [
        "#Problem Statement 1"
      ],
      "metadata": {
        "id": "rot6Xl-jGYGc"
      }
    },
    {
      "cell_type": "code",
      "source": [
        "I=[]\n",
        "i=0\n",
        "for i in range(1,11):\n",
        "  temp=int(input(\"Please enter a number:\"))\n",
        "  I.append(temp)\n",
        "  i=i+1\n",
        "i=0\n",
        "summation=0\n",
        "print(I)\n",
        "for i in I:\n",
        "  if i<5:\n",
        "    summation=summation+i\n",
        "print(\"sum of numbers less than 5:\",summation)\n"
      ],
      "metadata": {
        "colab": {
          "base_uri": "https://localhost:8080/"
        },
        "id": "PDafWDquGfTr",
        "outputId": "551f1186-8390-4d8a-cbf1-68f5505293da"
      },
      "execution_count": 37,
      "outputs": [
        {
          "output_type": "stream",
          "name": "stdout",
          "text": [
            "Please enter a number:5\n",
            "Please enter a number:2\n",
            "Please enter a number:4\n",
            "Please enter a number:3\n",
            "Please enter a number:6\n",
            "Please enter a number:9\n",
            "Please enter a number:1\n",
            "Please enter a number:1\n",
            "Please enter a number:4\n",
            "Please enter a number:6\n",
            "[5, 2, 4, 3, 6, 9, 1, 1, 4, 6]\n",
            "sum of numbers less than 5: 15\n"
          ]
        }
      ]
    },
    {
      "cell_type": "markdown",
      "source": [
        "#Problem Statement 2\n"
      ],
      "metadata": {
        "id": "04y3ttzHKPAe"
      }
    },
    {
      "cell_type": "code",
      "source": [
        "number=1;\n",
        "data={};\n",
        "while(number<= 5):\n",
        "  i= str(number);\n",
        "  data[number] = input(\"Please enter a number:\")\n",
        "  print(\"Value for number \"+ i +\" is \"+data[number])\n",
        "  number+=1\n",
        "  if(number==6):\n",
        "    sum=int(data[1])+int(data[5])\n",
        "print(\"The sum of the first and last number is:\"+ str(sum))"
      ],
      "metadata": {
        "colab": {
          "base_uri": "https://localhost:8080/"
        },
        "id": "F6BAUiIVKReI",
        "outputId": "79ee2f46-1e15-46a8-d549-3ff627160025"
      },
      "execution_count": 39,
      "outputs": [
        {
          "output_type": "stream",
          "name": "stdout",
          "text": [
            "Please enter a number:12\n",
            "Value for number 1 is 12\n",
            "Please enter a number:4\n",
            "Value for number 2 is 4\n",
            "Please enter a number:5\n",
            "Value for number 3 is 5\n",
            "Please enter a number:6\n",
            "Value for number 4 is 6\n",
            "Please enter a number:1\n",
            "Value for number 5 is 1\n",
            "The sum of the first and last number is:13\n"
          ]
        }
      ]
    },
    {
      "cell_type": "markdown",
      "source": [
        "#Problem Statement 3\n"
      ],
      "metadata": {
        "id": "DP_RsldCUUa5"
      }
    },
    {
      "cell_type": "code",
      "source": [
        "Grade=int(input(\"Please enter your numerical grade:\"))\n",
        "if Grade<=100 and Grade>=90:\n",
        "  print(\"Character grade: A\")\n",
        "elif Grade<=90 and Grade>=80:\n",
        "  print(\"Character grade: B\")\n",
        "elif Grade<=80 and Grade>=70:\n",
        "  print(\"Character grade: C\")\n",
        "elif Grade<=70 and Grade>=60:\n",
        "  print(\"Character grade: D\")\n",
        "else:\n",
        "  print(\"Character grade F\")"
      ],
      "metadata": {
        "colab": {
          "base_uri": "https://localhost:8080/"
        },
        "id": "QT-Use1zUX4Z",
        "outputId": "951db3c9-9cbe-4431-ce7a-20430e6a5578"
      },
      "execution_count": 51,
      "outputs": [
        {
          "output_type": "stream",
          "name": "stdout",
          "text": [
            "Please enter your numerical grade:59\n",
            "Character grade F\n"
          ]
        }
      ]
    }
  ]
}