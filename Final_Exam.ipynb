{
  "nbformat": 4,
  "nbformat_minor": 0,
  "metadata": {
    "colab": {
      "name": "Final Exam.ipynb",
      "provenance": [],
      "collapsed_sections": [],
      "authorship_tag": "ABX9TyMAPSbSCIUJvEQZ7XzeOQKT",
      "include_colab_link": true
    },
    "kernelspec": {
      "name": "python3",
      "display_name": "Python 3"
    },
    "language_info": {
      "name": "python"
    }
  },
  "cells": [
    {
      "cell_type": "markdown",
      "metadata": {
        "id": "view-in-github",
        "colab_type": "text"
      },
      "source": [
        "<a href=\"https://colab.research.google.com/github/jeffgaspillo13/CPEN-21A-ECE-2-1/blob/main/Final_Exam.ipynb\" target=\"_parent\"><img src=\"https://colab.research.google.com/assets/colab-badge.svg\" alt=\"Open In Colab\"/></a>"
      ]
    },
    {
      "cell_type": "markdown",
      "source": [
        "#Final Exam"
      ],
      "metadata": {
        "id": "A3AWwGZQGR8O"
      }
    },
    {
      "cell_type": "markdown",
      "source": [
        "##Problem Statement 1"
      ],
      "metadata": {
        "id": "rot6Xl-jGYGc"
      }
    },
    {
      "cell_type": "code",
      "source": [
        "number=[]\n",
        "j=0\n",
        "for j in range(1,11):\n",
        "  while True:\n",
        "    a=float(input(\"Please enter a number:\"))\n",
        "    if a<5:\n",
        "      print(\"\")\n",
        "      break\n",
        "    else:\n",
        "      print(\"Please try again and enter a number that is less than 5.\")\n",
        "    continue\n",
        "  number.append(a)\n",
        "  j+=1\n",
        "\n",
        "j=0\n",
        "sum=0\n",
        "print(\"The number you typed in are\", number)\n",
        "for j in number:\n",
        "  if j<5:\n",
        "    sum=sum+j\n",
        "print(\"The sum of the numbers that is less than 5 is\", sum)\n"
      ],
      "metadata": {
        "colab": {
          "base_uri": "https://localhost:8080/"
        },
        "id": "PDafWDquGfTr",
        "outputId": "4026d638-1b1d-421c-ca37-456ef4ee0504"
      },
      "execution_count": 18,
      "outputs": [
        {
          "output_type": "stream",
          "name": "stdout",
          "text": [
            "Please enter a number:1\n",
            "\n",
            "Please enter a number:1\n",
            "\n",
            "Please enter a number:1\n",
            "\n",
            "Please enter a number:1\n",
            "Please enter a number:1\n",
            "\n",
            "\n",
            "Please enter a number:3\n",
            "\n",
            "Please enter a number:23\n",
            "Please try again and enter a number that is less than 5.\n",
            "Please enter a number:13\n",
            "Please try again and enter a number that is less than 5.\n",
            "Please enter a number:20\n",
            "Please try again and enter a number that is less than 5.\n",
            "Please enter a number:1\n",
            "\n",
            "Please enter a number:2\n",
            "\n",
            "Please enter a number:1\n",
            "\n",
            "Please enter a number:1\n",
            "\n",
            "The number you typed in are [1.0, 1.0, 1.0, 1.0, 1.0, 3.0, 1.0, 2.0, 1.0, 1.0]\n",
            "The sum of the numbers that is less than 5 is 13.0\n"
          ]
        }
      ]
    },
    {
      "cell_type": "markdown",
      "source": [
        "##Problem Statement 2\n"
      ],
      "metadata": {
        "id": "04y3ttzHKPAe"
      }
    },
    {
      "cell_type": "code",
      "source": [
        "number=1;\n",
        "data={};\n",
        "while(number<= 5):\n",
        "  i= str(number);\n",
        "  data[number] = input(\"Please enter a number:\")\n",
        "  print(\"Value for number \"+ i +\" is \"+data[number])\n",
        "  number+=1\n",
        "  if(number==6):\n",
        "    sum=int(data[1])+int(data[5])\n",
        "print(\"The sum of the first and last number is:\"+ str(sum))"
      ],
      "metadata": {
        "colab": {
          "base_uri": "https://localhost:8080/"
        },
        "id": "F6BAUiIVKReI",
        "outputId": "79ee2f46-1e15-46a8-d549-3ff627160025"
      },
      "execution_count": null,
      "outputs": [
        {
          "output_type": "stream",
          "name": "stdout",
          "text": [
            "Please enter a number:12\n",
            "Value for number 1 is 12\n",
            "Please enter a number:4\n",
            "Value for number 2 is 4\n",
            "Please enter a number:5\n",
            "Value for number 3 is 5\n",
            "Please enter a number:6\n",
            "Value for number 4 is 6\n",
            "Please enter a number:1\n",
            "Value for number 5 is 1\n",
            "The sum of the first and last number is:13\n"
          ]
        }
      ]
    },
    {
      "cell_type": "markdown",
      "source": [
        "##Problem Statement 3\n"
      ],
      "metadata": {
        "id": "DP_RsldCUUa5"
      }
    },
    {
      "cell_type": "code",
      "source": [
        "Grade=int(input(\"Please enter your numerical grade:\"))\n",
        "if Grade<=100 and Grade>=90:\n",
        "  print(\"Character grade: A\")\n",
        "elif Grade<=90 and Grade>=80:\n",
        "  print(\"Character grade: B\")\n",
        "elif Grade<=80 and Grade>=70:\n",
        "  print(\"Character grade: C\")\n",
        "elif Grade<=70 and Grade>=60:\n",
        "  print(\"Character grade: D\")\n",
        "else:\n",
        "  print(\"Character grade F\")"
      ],
      "metadata": {
        "colab": {
          "base_uri": "https://localhost:8080/"
        },
        "id": "QT-Use1zUX4Z",
        "outputId": "b91b84aa-406c-49dd-edd0-c52e39337213"
      },
      "execution_count": 15,
      "outputs": [
        {
          "output_type": "stream",
          "name": "stdout",
          "text": [
            "Please enter your numerical grade:59\n",
            "Character grade F\n"
          ]
        }
      ]
    }
  ]
}